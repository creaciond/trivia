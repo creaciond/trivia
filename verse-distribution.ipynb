{
 "cells": [
  {
   "cell_type": "markdown",
   "metadata": {},
   "source": [
    "# Versed plays in RusDraCor"
   ]
  },
  {
   "cell_type": "code",
   "execution_count": 1,
   "metadata": {},
   "outputs": [],
   "source": [
    "import json\n",
    "import requests\n",
    "\n",
    "import matplotlib.pyplot as plt\n",
    "%matplotlib inline\n",
    "\n",
    "import pandas as pd"
   ]
  },
  {
   "cell_type": "code",
   "execution_count": 2,
   "metadata": {},
   "outputs": [],
   "source": [
    "from lxml import etree\n",
    "\n",
    "# we need this parameter to search in TEI-encoded files correctly\n",
    "tei_ns = {'tei': 'http://www.tei-c.org/ns/1.0'}"
   ]
  },
  {
   "cell_type": "markdown",
   "metadata": {},
   "source": [
    "## 1 &emsp; Getting data\n",
    "\n",
    "Extracting all the plays from the DraCor API:"
   ]
  },
  {
   "cell_type": "code",
   "execution_count": 15,
   "metadata": {},
   "outputs": [],
   "source": [
    "playnames = []\n",
    "request_link = \"https://dracor.org/api/corpora/rus\"\n",
    "response = requests.get(request_link)\n",
    "if response:\n",
    "    all_plays = response.json()[\"dramas\"]\n",
    "    for play in all_plays:\n",
    "        playnames.append(play[\"name\"])"
   ]
  },
  {
   "cell_type": "code",
   "execution_count": 4,
   "metadata": {},
   "outputs": [],
   "source": [
    "def download_play_text(playname):\n",
    "    req_link = \"https://dracor.org/api/corpora/rus/play/{}/tei\".format(playname)\n",
    "    text = requests.get(req_link).text\n",
    "    return text"
   ]
  },
  {
   "cell_type": "code",
   "execution_count": 5,
   "metadata": {},
   "outputs": [],
   "source": [
    "def calculate_p_l(text):\n",
    "    root = etree.fromstring(text)\n",
    "    try:\n",
    "        p_len = len(root.findall(\".//tei:p\", tei_ns))\n",
    "    except:\n",
    "        p_len = 0\n",
    "    try:\n",
    "        l_len = len(root.findall(\".//tei:l\", tei_ns))\n",
    "    except:\n",
    "        l_len = 0\n",
    "    return p_len, l_len"
   ]
  },
  {
   "cell_type": "markdown",
   "metadata": {},
   "source": [
    "Adding metadata:"
   ]
  },
  {
   "cell_type": "code",
   "execution_count": 11,
   "metadata": {},
   "outputs": [],
   "source": [
    "def play_metadata_api(playname):\n",
    "    \"\"\"Fetch play metadata from DraCor API, including:\n",
    "        play title,\n",
    "        playwriter's full name (important to distinguish between Leo Tolstoy and \n",
    "    Alexey Tolstoy),\n",
    "        no. of characters in cast,\n",
    "        no. of segments.\n",
    "    In case the request returns with error code, returns an empty dict.\n",
    "    :arg play_id - (str) id of the play from RusDraCor (extracted from the API)\n",
    "    to insert in the API request\n",
    "    :returns play_data - (dict) fetched data from API query results:\n",
    "        title: str, \n",
    "        author: str, \n",
    "        year: int\n",
    "    \"\"\"\n",
    "    request_link = \"https://dracor.org/api/corpora/rus/play/{}\".format(playname)\n",
    "    response = requests.get(request_link)\n",
    "    if response.status_code == 200:\n",
    "        response_json = json.loads(response.text)\n",
    "        title = response_json[\"title\"]\n",
    "        author = response_json[\"author\"][\"name\"]\n",
    "        year = int(response_json[\"yearNormalized\"])\n",
    "    else:\n",
    "        print(\"Couldn't retrieve metadata\\n\\t- play: {}\\n\\t- status code: {}\".format(playname, response.status_code))\n",
    "        print(request_link)\n",
    "        title = \"\"\n",
    "        author = \"\"\n",
    "        year = 0\n",
    "    return title, author, year"
   ]
  },
  {
   "cell_type": "code",
   "execution_count": 35,
   "metadata": {},
   "outputs": [],
   "source": [
    "df_dict = {\n",
    "    \"name\": [], \n",
    "    \"author\": [],\n",
    "    \"title\": [],\n",
    "    \"year\": [],\n",
    "    \"p\": [], \n",
    "    \"l\": [], \n",
    "    \"verse\":[]\n",
    "}"
   ]
  },
  {
   "cell_type": "code",
   "execution_count": 40,
   "metadata": {},
   "outputs": [],
   "source": [
    "playtexts = []\n",
    "for playname in playnames:\n",
    "    playtext = download_play_text(playname)\n",
    "    playtexts.append(playtext)"
   ]
  },
  {
   "cell_type": "code",
   "execution_count": 41,
   "metadata": {},
   "outputs": [],
   "source": [
    "playdata = []\n",
    "for playname in playnames:\n",
    "    playd = play_metadata_api(playname)\n",
    "    playdata.append(playd)"
   ]
  },
  {
   "cell_type": "code",
   "execution_count": 44,
   "metadata": {},
   "outputs": [],
   "source": [
    "for i, playname in enumerate(playnames):\n",
    "    df_dict[\"name\"].append(playname)\n",
    "    playtext = playtexts[i]\n",
    "    p, l = calculate_p_l(playtext)\n",
    "    df_dict[\"p\"].append(p)\n",
    "    df_dict[\"l\"].append(l)\n",
    "    if l > p:\n",
    "        decision = True\n",
    "    else:\n",
    "        decision = False\n",
    "    df_dict[\"verse\"].append(decision)\n",
    "    playd = playdata[i]\n",
    "    df_dict[\"title\"].append(playd[0])\n",
    "    df_dict[\"author\"].append(playd[1])\n",
    "    df_dict[\"year\"].append(playd[2])"
   ]
  },
  {
   "cell_type": "code",
   "execution_count": 32,
   "metadata": {},
   "outputs": [
    {
     "name": "stdout",
     "output_type": "stream",
     "text": [
      "CPU times: user 13.9 s, sys: 1.01 s, total: 14.9 s\n",
      "Wall time: 4min 11s\n"
     ]
    }
   ],
   "source": [
    "%%time\n",
    "df_dict = {\n",
    "    \"name\": [], \n",
    "    \"author\": [],\n",
    "    \"title\": [],\n",
    "    \"year\": [],\n",
    "    \"p\": [], \n",
    "    \"l\": [], \n",
    "    \"verse\":[]\n",
    "}\n",
    "for playname in playnames:\n",
    "    playtext = download_play_text(playname)\n",
    "    title, author, year = play_metadata_api(playname)\n",
    "        \n",
    "    df_dict[\"title\"].append(title)\n",
    "    df_dict[\"author\"].append(author)\n",
    "    df_dict[\"year\"].append(year)\n",
    "#     print(\"Play: {}, author: {}, year: {}, playname: {}\\np={}, l={}, decision: {}\".format(\n",
    "#         title, author, year, playname, p, l, decision))"
   ]
  },
  {
   "cell_type": "code",
   "execution_count": 46,
   "metadata": {},
   "outputs": [
    {
     "data": {
      "text/html": [
       "<div>\n",
       "<style scoped>\n",
       "    .dataframe tbody tr th:only-of-type {\n",
       "        vertical-align: middle;\n",
       "    }\n",
       "\n",
       "    .dataframe tbody tr th {\n",
       "        vertical-align: top;\n",
       "    }\n",
       "\n",
       "    .dataframe thead th {\n",
       "        text-align: right;\n",
       "    }\n",
       "</style>\n",
       "<table border=\"1\" class=\"dataframe\">\n",
       "  <thead>\n",
       "    <tr style=\"text-align: right;\">\n",
       "      <th></th>\n",
       "      <th>name</th>\n",
       "      <th>author</th>\n",
       "      <th>title</th>\n",
       "      <th>year</th>\n",
       "      <th>p</th>\n",
       "      <th>l</th>\n",
       "      <th>verse</th>\n",
       "    </tr>\n",
       "  </thead>\n",
       "  <tbody>\n",
       "    <tr>\n",
       "      <th>0</th>\n",
       "      <td>andreyev-ne-ubiy</td>\n",
       "      <td>Андреев, Леонид Николаевич</td>\n",
       "      <td>Не убий</td>\n",
       "      <td>1913</td>\n",
       "      <td>973</td>\n",
       "      <td>0</td>\n",
       "      <td>False</td>\n",
       "    </tr>\n",
       "    <tr>\n",
       "      <th>1</th>\n",
       "      <td>andreyev-mysl</td>\n",
       "      <td>Андреев, Леонид Николаевич</td>\n",
       "      <td>Мысль</td>\n",
       "      <td>1914</td>\n",
       "      <td>669</td>\n",
       "      <td>0</td>\n",
       "      <td>False</td>\n",
       "    </tr>\n",
       "    <tr>\n",
       "      <th>2</th>\n",
       "      <td>afinogenov-mashenka</td>\n",
       "      <td>Афиногенов, Александр Николаевич</td>\n",
       "      <td>Машенька</td>\n",
       "      <td>1941</td>\n",
       "      <td>828</td>\n",
       "      <td>4</td>\n",
       "      <td>False</td>\n",
       "    </tr>\n",
       "    <tr>\n",
       "      <th>3</th>\n",
       "      <td>babel-marija</td>\n",
       "      <td>Бабель, Исаак Эммануилович</td>\n",
       "      <td>Мария</td>\n",
       "      <td>1935</td>\n",
       "      <td>574</td>\n",
       "      <td>22</td>\n",
       "      <td>False</td>\n",
       "    </tr>\n",
       "    <tr>\n",
       "      <th>4</th>\n",
       "      <td>babel-zakat</td>\n",
       "      <td>Бабель, Исаак Эммануилович</td>\n",
       "      <td>Закат</td>\n",
       "      <td>1927</td>\n",
       "      <td>635</td>\n",
       "      <td>24</td>\n",
       "      <td>False</td>\n",
       "    </tr>\n",
       "  </tbody>\n",
       "</table>\n",
       "</div>"
      ],
      "text/plain": [
       "                  name                            author     title  year    p  \\\n",
       "0     andreyev-ne-ubiy        Андреев, Леонид Николаевич   Не убий  1913  973   \n",
       "1        andreyev-mysl        Андреев, Леонид Николаевич     Мысль  1914  669   \n",
       "2  afinogenov-mashenka  Афиногенов, Александр Николаевич  Машенька  1941  828   \n",
       "3         babel-marija        Бабель, Исаак Эммануилович     Мария  1935  574   \n",
       "4          babel-zakat        Бабель, Исаак Эммануилович     Закат  1927  635   \n",
       "\n",
       "    l  verse  \n",
       "0   0  False  \n",
       "1   0  False  \n",
       "2   4  False  \n",
       "3  22  False  \n",
       "4  24  False  "
      ]
     },
     "execution_count": 46,
     "metadata": {},
     "output_type": "execute_result"
    }
   ],
   "source": [
    "df = pd.DataFrame.from_dict(df_dict)\n",
    "df.head()"
   ]
  },
  {
   "cell_type": "markdown",
   "metadata": {},
   "source": [
    "## 2 &emsp; Figures and stats"
   ]
  },
  {
   "cell_type": "markdown",
   "metadata": {},
   "source": [
    "General distribution:"
   ]
  },
  {
   "cell_type": "code",
   "execution_count": 47,
   "metadata": {},
   "outputs": [
    {
     "data": {
      "text/plain": [
       "False    122\n",
       "True      68\n",
       "Name: verse, dtype: int64"
      ]
     },
     "execution_count": 47,
     "metadata": {},
     "output_type": "execute_result"
    }
   ],
   "source": [
    "df[\"verse\"].value_counts()"
   ]
  },
  {
   "cell_type": "markdown",
   "metadata": {},
   "source": [
    "Type distribution by year:"
   ]
  },
  {
   "cell_type": "code",
   "execution_count": 52,
   "metadata": {},
   "outputs": [
    {
     "data": {
      "image/png": "[encoded data removed]",
      "text/plain": [
       "<Figure size 576x432 with 1 Axes>"
      ]
     },
     "metadata": {
      "needs_background": "light"
     },
     "output_type": "display_data"
    }
   ],
   "source": [
    "plt.figure(figsize=(8,6))\n",
    "df[df[\"verse\"] == True][\"year\"].hist()\n",
    "plt.title(\"Versed plays distribution\", fontsize=16)\n",
    "plt.xlabel(\"Year\")\n",
    "plt.ylabel(\"Plays written\");"
   ]
  },
  {
   "cell_type": "markdown",
   "metadata": {},
   "source": [
    "Looks like the versed dramas are more likely to appear either _until second half of 19th century_ (when the classics canon was still strong, see Sperantov 1998) or _in the 20th century_."
   ]
  },
  {
   "cell_type": "code",
   "execution_count": 51,
   "metadata": {},
   "outputs": [
    {
     "data": {
      "image/png": "[encoded data removed]",
      "text/plain": [
       "<Figure size 576x432 with 1 Axes>"
      ]
     },
     "metadata": {
      "needs_background": "light"
     },
     "output_type": "display_data"
    }
   ],
   "source": [
    "plt.figure(figsize=(8,6))\n",
    "df[df[\"verse\"] == False][\"year\"].hist()\n",
    "plt.title(\"Prose plays distribution\", fontsize=16)\n",
    "plt.xlabel(\"Year\")\n",
    "plt.ylabel(\"Plays written\");"
   ]
  },
  {
   "cell_type": "markdown",
   "metadata": {},
   "source": [
    "Authors who wrote versed drama, sorted by amount of plays:"
   ]
  },
  {
   "cell_type": "code",
   "execution_count": 53,
   "metadata": {},
   "outputs": [
    {
     "data": {
      "text/plain": [
       "Пушкин, Александр Сергеевич           6\n",
       "Княжнин, Яков Борисович               6\n",
       "Сумароков, Александр Петрович         6\n",
       "Гумилёв, Николай Степанович           4\n",
       "Хмельницкий, Николай Иванович         4\n",
       "Шаховской, Александр Александрович    4\n",
       "Писарев, Александр Иванович           3\n",
       "Крылов, Иван Андреевич                3\n",
       "Толстой, Алексей Константинович       3\n",
       "Прутков, Козьма                       3\n",
       "Ломоносов, Михаил Васильевич          2\n",
       "Некрасов, Николай Алексеевич          2\n",
       "Майков, Василий Иванович              2\n",
       "Грибоедов, Александр Сергеевич        2\n",
       "Херасков, Михаил Матвеевич            2\n",
       "Капнист, Василий Васильевич           2\n",
       "Блок, Александр Александрович         2\n",
       "Кокошкин, Фёдор Фёдорович             1\n",
       "Ростопчина, Евдокия Петровна          1\n",
       "Кедрин, Дмитрий Борисович             1\n",
       "Загоскин, Михаил Николаевич           1\n",
       "Судовщиков, Николай Родионович        1\n",
       "Николев, Николай Петрович             1\n",
       "Глинка, Фёдор Николаевич              1\n",
       "Маяковский, Владимир Владимирович     1\n",
       "Озеров, Владислав Александрович       1\n",
       "Островский, Александр Николаевич      1\n",
       "Лермонтов, Михаил Юрьевич             1\n",
       "Фонвизин, Денис Иванович              1\n",
       "Name: author, dtype: int64"
      ]
     },
     "execution_count": 53,
     "metadata": {},
     "output_type": "execute_result"
    }
   ],
   "source": [
    "df[df[\"verse\"] == True][\"author\"].value_counts()"
   ]
  }
 ],
 "metadata": {
  "kernelspec": {
   "display_name": "Python 3",
   "language": "python",
   "name": "python3"
  },
  "language_info": {
   "codemirror_mode": {
    "name": "ipython",
    "version": 3
   },
   "file_extension": ".py",
   "mimetype": "text/x-python",
   "name": "python",
   "nbconvert_exporter": "python",
   "pygments_lexer": "ipython3",
   "version": "3.6.8"
  }
 },
 "nbformat": 4,
 "nbformat_minor": 2
}
