{
 "cells": [
  {
   "cell_type": "markdown",
   "metadata": {},
   "source": [
    "# Versed plays in DraCor"
   ]
  },
  {
   "cell_type": "code",
   "execution_count": 1,
   "metadata": {},
   "outputs": [],
   "source": [
    "import json\n",
    "import requests\n",
    "\n",
    "import matplotlib.pyplot as plt\n",
    "%matplotlib inline\n",
    "\n",
    "import pandas as pd"
   ]
  },
  {
   "cell_type": "code",
   "execution_count": 2,
   "metadata": {},
   "outputs": [],
   "source": [
    "from lxml import etree\n",
    "\n",
    "# we need this parameter to search in TEI-encoded files correctly\n",
    "tei_ns = {'tei': 'http://www.tei-c.org/ns/1.0'}"
   ]
  },
  {
   "cell_type": "code",
   "execution_count": 3,
   "metadata": {},
   "outputs": [],
   "source": [
    "# change the variable here to change the corpus you're working with\n",
    "CORPUS = \"ger\""
   ]
  },
  {
   "cell_type": "markdown",
   "metadata": {},
   "source": [
    "## 1 &emsp; Getting data\n",
    "\n",
    "Extracting all the plays from the DraCor API:"
   ]
  },
  {
   "cell_type": "code",
   "execution_count": 4,
   "metadata": {},
   "outputs": [],
   "source": [
    "playnames = []\n",
    "request_link = \"https://dracor.org/api/corpora/{}\".format(CORPUS)\n",
    "response = requests.get(request_link)\n",
    "if response:\n",
    "    all_plays = response.json()[\"dramas\"]\n",
    "    for play in all_plays:\n",
    "        playnames.append(play[\"name\"])"
   ]
  },
  {
   "cell_type": "code",
   "execution_count": 5,
   "metadata": {},
   "outputs": [],
   "source": [
    "def download_play_text(playname):\n",
    "    \"\"\"Uses DraCor API to download play text for further work.\n",
    "    \n",
    "    :arg playname (str) — play name to use in GET /tei query\n",
    "    \n",
    "    :returns text (str) - XML of the play, TEI-encoded\n",
    "    \"\"\"\n",
    "    req_link = \"https://dracor.org/api/corpora/{}/play/{}/tei\".format(CORPUS, playname)\n",
    "    text = requests.get(req_link).text\n",
    "    return text"
   ]
  },
  {
   "cell_type": "code",
   "execution_count": 6,
   "metadata": {},
   "outputs": [],
   "source": [
    "def calculate_p_l(text):\n",
    "    \"\"\"Calculates the amounts of <p> and <l> elements in a given play's\n",
    "    XML document. If any of the values isn't present (say, there's no <l>\n",
    "    in prose drama) it's assigned 0.\n",
    "    \n",
    "    :arg text (str) - TEI-encoded play\n",
    "    \n",
    "    :returns p_len (int)\n",
    "    :returns l_len (int)\n",
    "    \"\"\"\n",
    "    root = etree.fromstring(text)\n",
    "    try:\n",
    "        p_len = len(root.findall(\".//tei:p\", tei_ns))\n",
    "    except:\n",
    "        p_len = 0\n",
    "    try:\n",
    "        l_len = len(root.findall(\".//tei:l\", tei_ns))\n",
    "    except:\n",
    "        l_len = 0\n",
    "    return p_len, l_len"
   ]
  },
  {
   "cell_type": "markdown",
   "metadata": {},
   "source": [
    "Adding metadata:"
   ]
  },
  {
   "cell_type": "code",
   "execution_count": 7,
   "metadata": {},
   "outputs": [],
   "source": [
    "def get_play_metadata_from_api(playname):\n",
    "    \"\"\"Fetch play metadata from DraCor API, including:\n",
    "        play title,\n",
    "        author's full name,\n",
    "        normalized year\n",
    "    In case the request returns with error code, returns a tuple of (\"\", \"\", 0).\n",
    "    \n",
    "    :arg playname - (str) play name to use in GET /play query.\n",
    "    \n",
    "    :returns title (str)\n",
    "    :returns author (str)\n",
    "    :returns year (int)\n",
    "    \"\"\"\n",
    "    request_link = \"https://dracor.org/api/corpora/{}/play/{}\".format(CORPUS, playname)\n",
    "    response = requests.get(request_link)\n",
    "    if response.status_code == 200:\n",
    "        response_json = json.loads(response.text)\n",
    "        title = response_json[\"title\"]\n",
    "        author = response_json[\"author\"][\"name\"]\n",
    "        year = int(response_json[\"yearNormalized\"])\n",
    "    else:\n",
    "        print(\"Couldn't retrieve metadata\\n\\t- play: {}\\n\\t- status code: {}\".format(playname, response.status_code))\n",
    "        print(request_link)\n",
    "        title = \"\"\n",
    "        author = \"\"\n",
    "        year = 0\n",
    "    return title, author, year"
   ]
  },
  {
   "cell_type": "code",
   "execution_count": 8,
   "metadata": {},
   "outputs": [],
   "source": [
    "df_dict = {\n",
    "    \"name\": [], \n",
    "    \"author\": [],\n",
    "    \"title\": [],\n",
    "    \"year\": [],\n",
    "    \"p\": [], \n",
    "    \"l\": [], \n",
    "    \"verse\":[]\n",
    "}"
   ]
  },
  {
   "cell_type": "code",
   "execution_count": 9,
   "metadata": {},
   "outputs": [],
   "source": [
    "for playname in playnames:\n",
    "    df_dict[\"name\"] = playname\n",
    "    playtext = download_play_text(playname)\n",
    "    p, l = calculate_p_l(playtext)\n",
    "    # verse or prose?\n",
    "    df_dict[\"p\"].append(p)\n",
    "    df_dict[\"l\"].append(l)\n",
    "    if l > p:\n",
    "        decision = True\n",
    "    else:\n",
    "        decision = False\n",
    "    df_dict[\"verse\"].append(decision)\n",
    "    title, author, year = get_play_metadata_from_api(playname)\n",
    "    df_dict[\"title\"].append(title)\n",
    "    df_dict[\"author\"].append(author)\n",
    "    df_dict[\"year\"].append(year)"
   ]
  },
  {
   "cell_type": "markdown",
   "metadata": {},
   "source": [
    "Converting to pandas dataframe:"
   ]
  },
  {
   "cell_type": "code",
   "execution_count": 10,
   "metadata": {},
   "outputs": [
    {
     "data": {
      "text/html": [
       "<div>\n",
       "<style scoped>\n",
       "    .dataframe tbody tr th:only-of-type {\n",
       "        vertical-align: middle;\n",
       "    }\n",
       "\n",
       "    .dataframe tbody tr th {\n",
       "        vertical-align: top;\n",
       "    }\n",
       "\n",
       "    .dataframe thead th {\n",
       "        text-align: right;\n",
       "    }\n",
       "</style>\n",
       "<table border=\"1\" class=\"dataframe\">\n",
       "  <thead>\n",
       "    <tr style=\"text-align: right;\">\n",
       "      <th></th>\n",
       "      <th>name</th>\n",
       "      <th>author</th>\n",
       "      <th>title</th>\n",
       "      <th>year</th>\n",
       "      <th>p</th>\n",
       "      <th>l</th>\n",
       "      <th>verse</th>\n",
       "    </tr>\n",
       "  </thead>\n",
       "  <tbody>\n",
       "    <tr>\n",
       "      <th>0</th>\n",
       "      <td>zschokke-abellino</td>\n",
       "      <td>Alberti, Konrad</td>\n",
       "      <td>Im Suff</td>\n",
       "      <td>1890</td>\n",
       "      <td>369</td>\n",
       "      <td>193</td>\n",
       "      <td>False</td>\n",
       "    </tr>\n",
       "    <tr>\n",
       "      <th>1</th>\n",
       "      <td>zschokke-abellino</td>\n",
       "      <td>Alberti, Konrad</td>\n",
       "      <td>Brot!</td>\n",
       "      <td>1888</td>\n",
       "      <td>807</td>\n",
       "      <td>12</td>\n",
       "      <td>False</td>\n",
       "    </tr>\n",
       "    <tr>\n",
       "      <th>2</th>\n",
       "      <td>zschokke-abellino</td>\n",
       "      <td>Anzengruber, Ludwig</td>\n",
       "      <td>Der Pfarrer von Kirchfeld</td>\n",
       "      <td>1870</td>\n",
       "      <td>631</td>\n",
       "      <td>84</td>\n",
       "      <td>False</td>\n",
       "    </tr>\n",
       "    <tr>\n",
       "      <th>3</th>\n",
       "      <td>zschokke-abellino</td>\n",
       "      <td>Anzengruber, Ludwig</td>\n",
       "      <td>Das vierte Gebot</td>\n",
       "      <td>1877</td>\n",
       "      <td>781</td>\n",
       "      <td>0</td>\n",
       "      <td>False</td>\n",
       "    </tr>\n",
       "    <tr>\n",
       "      <th>4</th>\n",
       "      <td>zschokke-abellino</td>\n",
       "      <td>Anzengruber, Ludwig</td>\n",
       "      <td>Der Gwissenswurm</td>\n",
       "      <td>1874</td>\n",
       "      <td>640</td>\n",
       "      <td>124</td>\n",
       "      <td>False</td>\n",
       "    </tr>\n",
       "  </tbody>\n",
       "</table>\n",
       "</div>"
      ],
      "text/plain": [
       "                name               author                      title  year  \\\n",
       "0  zschokke-abellino      Alberti, Konrad                    Im Suff  1890   \n",
       "1  zschokke-abellino      Alberti, Konrad                      Brot!  1888   \n",
       "2  zschokke-abellino  Anzengruber, Ludwig  Der Pfarrer von Kirchfeld  1870   \n",
       "3  zschokke-abellino  Anzengruber, Ludwig           Das vierte Gebot  1877   \n",
       "4  zschokke-abellino  Anzengruber, Ludwig           Der Gwissenswurm  1874   \n",
       "\n",
       "     p    l  verse  \n",
       "0  369  193  False  \n",
       "1  807   12  False  \n",
       "2  631   84  False  \n",
       "3  781    0  False  \n",
       "4  640  124  False  "
      ]
     },
     "execution_count": 10,
     "metadata": {},
     "output_type": "execute_result"
    }
   ],
   "source": [
    "df = pd.DataFrame.from_dict(df_dict)\n",
    "df.head()"
   ]
  },
  {
   "cell_type": "markdown",
   "metadata": {},
   "source": [
    "## 2 &emsp; Figures and stats"
   ]
  },
  {
   "cell_type": "markdown",
   "metadata": {},
   "source": [
    "General distribution:"
   ]
  },
  {
   "cell_type": "code",
   "execution_count": 11,
   "metadata": {},
   "outputs": [
    {
     "data": {
      "text/plain": [
       "False    284\n",
       "True     190\n",
       "Name: verse, dtype: int64"
      ]
     },
     "execution_count": 11,
     "metadata": {},
     "output_type": "execute_result"
    }
   ],
   "source": [
    "df[\"verse\"].value_counts()"
   ]
  },
  {
   "cell_type": "markdown",
   "metadata": {},
   "source": [
    "Type distribution by year:"
   ]
  },
  {
   "cell_type": "code",
   "execution_count": 12,
   "metadata": {},
   "outputs": [
    {
     "data": {
      "image/png": "[encoded data removed]",
      "text/plain": [
       "<Figure size 576x432 with 1 Axes>"
      ]
     },
     "metadata": {
      "needs_background": "light"
     },
     "output_type": "display_data"
    }
   ],
   "source": [
    "plt.figure(figsize=(8,6))\n",
    "df[df[\"verse\"] == True][\"year\"].hist()\n",
    "# here and in the next cell:\n",
    "# semi-colons at the end of the line to override some unwanted output\n",
    "plt.title(\"Versed plays distribution\", fontsize=16);\n",
    "plt.xlabel(\"Year\");\n",
    "plt.ylim(0, 100);\n",
    "plt.ylabel(\"Plays written\");"
   ]
  },
  {
   "cell_type": "code",
   "execution_count": 13,
   "metadata": {},
   "outputs": [
    {
     "data": {
      "image/png": "[encoded data removed]",
      "text/plain": [
       "<Figure size 576x432 with 1 Axes>"
      ]
     },
     "metadata": {
      "needs_background": "light"
     },
     "output_type": "display_data"
    }
   ],
   "source": [
    "plt.figure(figsize=(8,6))\n",
    "df[df[\"verse\"] == False][\"year\"].hist();\n",
    "plt.title(\"Prose plays distribution\", fontsize=16);\n",
    "plt.xlabel(\"Year\");\n",
    "plt.ylim(0, 100);\n",
    "plt.ylabel(\"Plays written\");"
   ]
  },
  {
   "cell_type": "markdown",
   "metadata": {},
   "source": [
    "Authors who wrote versed drama, sorted by amount of plays:"
   ]
  },
  {
   "cell_type": "code",
   "execution_count": 14,
   "metadata": {},
   "outputs": [
    {
     "data": {
      "text/plain": [
       "Hofmannsthal, Hugo von                      14\n",
       "Goethe, Johann Wolfgang                     11\n",
       "Wagner, Richard                             10\n",
       "Grillparzer, Franz                           9\n",
       "Hebbel, Friedrich                            9\n",
       "Schiller, Friedrich                          8\n",
       "Kleist, Heinrich von                         7\n",
       "Immermann, Karl                              5\n",
       "Neuber, Friederike Caroline                  4\n",
       "Lortzing, Albert (Gustav)                    3\n",
       "Eichendorff, Joseph von                      3\n",
       "Günderode, Karoline von                      3\n",
       "Mosenthal, Salomon Hermann von               3\n",
       "Stephanie, Johann Gottlieb (der Jüngere)     3\n",
       "Fouqué, Friedrich de la Motte                3\n",
       "Arnim, Ludwig Achim von                      2\n",
       "Heiseler, Henry von                          2\n",
       "Schlegel, Johann Elias                       2\n",
       "Wildenbruch, Ernst von                       2\n",
       "Braun von Braunthal, Karl Johann             2\n",
       "Widmann, Joseph Viktor                       2\n",
       "Platen, August von                           2\n",
       "Grabbe, Christian Dietrich                   2\n",
       "Heine, Heinrich                              2\n",
       "Wieland, Christoph Martin                    2\n",
       "Müllner, Adolph                              2\n",
       "Gottsched, Johann Christoph                  2\n",
       "Uhland, Ludwig                               2\n",
       "Beer, Michael                                2\n",
       "Avenarius, Ferdinand                         1\n",
       "                                            ..\n",
       "Bunge, Rudolf                                1\n",
       "Schäfer, Wilhelm                             1\n",
       "Schnitzer, Ignaz                             1\n",
       "Weidmann, Paul                               1\n",
       "Mylius, Christlob                            1\n",
       "Voß, Julius von                              1\n",
       "Prutz, Robert Eduard                         1\n",
       "Sudermann, Hermann                           1\n",
       "Klingemann, August                           1\n",
       "Wette, Adelheid                              1\n",
       "May, Karl                                    1\n",
       "Roeber, Friedrich                            1\n",
       "Bretzner, Christoph Friedrich                1\n",
       "Collin, Heinrich Joseph von                  1\n",
       "Wohlbrück, Wilhelm August                    1\n",
       "Kobell, Franz von                            1\n",
       "Gotter, Friedrich Wilhelm                    1\n",
       "Laube, Heinrich                              1\n",
       "Schober, Franz von                           1\n",
       "Ertler, Bruno                                1\n",
       "Halm, Friedrich                              1\n",
       "Zschokke, Heinrich                           1\n",
       "Schlegel, August Wilhelm                     1\n",
       "Gehe, Eduard Heinrich                        1\n",
       "Ayrenhoff, Cornelius Hermann von             1\n",
       "Körner, Theodor                              1\n",
       "Brawe, Joachim Wilhelm von                   1\n",
       "Seemann, Otto                                1\n",
       "Wedekind, Frank                              1\n",
       "Brandes, Johann Christian                    1\n",
       "Name: author, Length: 96, dtype: int64"
      ]
     },
     "execution_count": 14,
     "metadata": {},
     "output_type": "execute_result"
    }
   ],
   "source": [
    "df[df[\"verse\"] == True][\"author\"].value_counts()"
   ]
  }
 ],
 "metadata": {
  "kernelspec": {
   "display_name": "Python 3",
   "language": "python",
   "name": "python3"
  },
  "language_info": {
   "codemirror_mode": {
    "name": "ipython",
    "version": 3
   },
   "file_extension": ".py",
   "mimetype": "text/x-python",
   "name": "python",
   "nbconvert_exporter": "python",
   "pygments_lexer": "ipython3",
   "version": "3.6.8"
  }
 },
 "nbformat": 4,
 "nbformat_minor": 2
}
